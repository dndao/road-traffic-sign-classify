{
 "cells": [
  {
   "cell_type": "markdown",
   "metadata": {},
   "source": [
    "# Road Traffic Sign Classify Model\n",
    "\n",
    "The work below attempt to create/evaluate machine learning models and to train a model to classify images of European road traffic signs. [here]().\n",
    "\n",
    "* There are roughly 2000 instances and 20 features/attributes for the training data.\n",
    "* There are several models with different performances considerated in this work.\n",
    "* More details about the analysis/evaluation of the dataset and the models can be found in this [analysis report](https://newborn-life-expectancy-model.notebook.us-east-1.sagemaker.aws/lab/tree/newborn-life-expectancy-model/Report.docx).\n",
    "\n",
    ">Author: ***Daniel Dao***\n",
    "\n",
    "<hr size=\"5\" />"
   ]
  }
 ],
 "metadata": {
  "kernelspec": {
   "display_name": "conda_python3",
   "language": "python",
   "name": "conda_python3"
  },
  "language_info": {
   "codemirror_mode": {
    "name": "ipython",
    "version": 3
   },
   "file_extension": ".py",
   "mimetype": "text/x-python",
   "name": "python",
   "nbconvert_exporter": "python",
   "pygments_lexer": "ipython3",
   "version": "3.6.5"
  }
 },
 "nbformat": 4,
 "nbformat_minor": 4
}
